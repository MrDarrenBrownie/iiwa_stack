{
 "cells": [
  {
   "cell_type": "code",
   "execution_count": 1,
   "metadata": {},
   "outputs": [],
   "source": [
    "import numpy as np\n",
    "import pandas as pd\n",
    "import matplotlib.pyplot as plt\n",
    "import json"
   ]
  },
  {
   "attachments": {},
   "cell_type": "markdown",
   "metadata": {},
   "source": [
    "# functions"
   ]
  },
  {
   "cell_type": "code",
   "execution_count": 2,
   "metadata": {},
   "outputs": [],
   "source": [
    "def rmv_first_last_cycle(df):\n",
    "# remove the first and last cycle from input Dataframe\n",
    "\n",
    "    df.drop(df.loc[df['loop_count']==-1].index, inplace=True)\n",
    "    df.drop(df.loc[df['loop_count']==df['loop_count'].iloc[-1]].index, inplace=True)"
   ]
  },
  {
   "cell_type": "code",
   "execution_count": 3,
   "metadata": {},
   "outputs": [],
   "source": [
    "def get_cycle_time(df, cycle_number=None):\n",
    "# returns either cycle time for specified cycle or list of cycle times\n",
    "\n",
    "    if not cycle_number == None:\n",
    "        return (int(df.loc[df['loop_count']==cycle_number]['timestamp'].iloc[-1])-int(df.loc[df['loop_count']==cycle_number]['timestamp'].iloc[0]))/1000000\n",
    "    else:\n",
    "        l_of_ct = []\n",
    "        for cycle in df['loop_count'].unique():\n",
    "            l_of_ct.append(get_cycle_time(df, cycle))\n",
    "        return l_of_ct"
   ]
  },
  {
   "cell_type": "code",
   "execution_count": 4,
   "metadata": {},
   "outputs": [],
   "source": [
    "def get_joint_position(df, cycle_number, position=None):\n",
    "# returns intital or final joint positions as list or a list of joint positions (also as list)\n",
    "\n",
    "    if position == 'initial':\n",
    "        return df.loc[(df['loop_count']==cycle_number, df.columns[3:])].iloc[0].to_list()\n",
    "    elif position == 'final':\n",
    "        return df.loc[(df['loop_count']==cycle_number, df.columns[3:])].iloc[-1].to_list()\n",
    "    else:\n",
    "        l_of_positions = []\n",
    "        for row in df['loop_count'].unique():\n",
    "            l_of_positions.append(df.loc[(df['loop_count']==cycle_number, df.columns[3:])].iloc[row].to_list())\n",
    "        return l_of_positions"
   ]
  },
  {
   "cell_type": "code",
   "execution_count": 5,
   "metadata": {},
   "outputs": [],
   "source": [
    "def min_velo_mean_std(df):\n",
    "# returns tuple of mean and std of input Dataframe\n",
    "\n",
    "    l_of_mean = []\n",
    "    l_of_std = []\n",
    "    for cycle in df['loop_count'].unique():\n",
    "        mean = df.loc[(df['loop_count']==cycle, df.columns[3:])].abs().sum(axis=1).mean()\n",
    "        std = df.loc[(df['loop_count']==cycle, df.columns[3:])].abs().sum(axis=1).std()\n",
    "        l_of_mean.append((mean, cycle))\n",
    "        l_of_std.append((std, cycle))\n",
    "    return (l_of_mean, l_of_std)"
   ]
  },
  {
   "cell_type": "code",
   "execution_count": 6,
   "metadata": {},
   "outputs": [],
   "source": [
    "def min_time_cycle(df):\n",
    "# returns list of times for each cycle in input Dataframe\n",
    "\n",
    "    l_of_ct = []\n",
    "    for cycle in df['loop_count'].unique():\n",
    "        cycle_time = (int(df.loc[df['loop_count']==cycle]['timestamp'].iloc[-1])-int(df.loc[df['loop_count']==cycle]['timestamp'].iloc[0]))/1000000\n",
    "        l_of_ct.append((cycle_time, cycle))\n",
    "    return l_of_ct"
   ]
  },
  {
   "cell_type": "code",
   "execution_count": 7,
   "metadata": {},
   "outputs": [],
   "source": [
    "def min_joint_movement(df):\n",
    "# returns list of integrals. The integral is calculated from the accumulated sum of absolute joint movements during each cycle of input Dataframe\n",
    "\n",
    "    l_of_integrals = []\n",
    "    for cycle in df['loop_count'].unique():\n",
    "        cycle_joints = df.loc[(df['loop_count']==cycle, df.columns[3:])].abs().cumsum(axis=0)\n",
    "        cycle_cumulated = cycle_joints.cumsum(axis=1)['a7'] # the accumulated result is written in the last column\n",
    "        integral = cycle_cumulated.sum()/len(cycle_cumulated)\n",
    "        l_of_integrals.append((integral, cycle))\n",
    "    return l_of_integrals"
   ]
  },
  {
   "cell_type": "code",
   "execution_count": 8,
   "metadata": {},
   "outputs": [],
   "source": [
    "def filter_high_cycle_times(df, threshold=2000):\n",
    "# removes those cycles from input Dataframe, that have a cycle time above a given threshold\n",
    "\n",
    "    for cycle_time in [jp for jp in get_cycle_time(df) if jp > threshold][::-1]:\n",
    "        initial_cycle = df['loop_count'].iloc[0]\n",
    "        df.drop(df[df['loop_count']==get_cycle_time(df).index(cycle_time)+initial_cycle].index, inplace=True)"
   ]
  },
  {
   "cell_type": "code",
   "execution_count": 9,
   "metadata": {},
   "outputs": [],
   "source": [
    "def plot_all():\n",
    "# plots all the plots\n",
    "\n",
    "    fig, axs = plt.subplots(4,4, tight_layout=True)\n",
    "\n",
    "    axs[0,0].plot(get_cycle_time(jp_speed_short))\n",
    "    axs[0,0].set_title('jp_speed_short')\n",
    "\n",
    "    axs[0,1].plot(get_cycle_time(jp_distance_short))\n",
    "    axs[0,1].set_title('jp_distance_short')\n",
    "\n",
    "    axs[0,2].plot(get_cycle_time(jp_manip1_short))\n",
    "    axs[0,2].set_title('jp_manip1_short')\n",
    "    axs[1,2].plot(get_cycle_time(jp_manip1_long))\n",
    "    axs[1,2].set_title('jp_manip1_long')\n",
    "    axs[2,2].plot(get_cycle_time(jp_manip1_long_5))\n",
    "    axs[2,2].set_title('jp_manip1_long_5')\n",
    "    axs[3,2].plot(get_cycle_time(jp_manip1_long_10))\n",
    "    axs[3,2].set_title('jp_manip1_long_10')\n",
    "\n",
    "    axs[0,3].plot(get_cycle_time(jp_manip2_short))\n",
    "    axs[0,3].set_title('jp_manip2_short')\n",
    "    axs[1,3].plot(get_cycle_time(jp_manip2_long))\n",
    "    axs[1,3].set_title('jp_manip2_long')"
   ]
  },
  {
   "attachments": {},
   "cell_type": "markdown",
   "metadata": {},
   "source": [
    "# import data"
   ]
  },
  {
   "cell_type": "code",
   "execution_count": 10,
   "metadata": {},
   "outputs": [],
   "source": [
    "jp_speed_short = pd.read_csv('/home/alexander/iiwa_stack_ws/src/iiwa_stack/iiwa_tesla/iiwa_tesla_data/position_values_20230123_094832')\n",
    "jp_distance_short = pd.read_csv('/home/alexander/iiwa_stack_ws/src/iiwa_stack/iiwa_tesla/iiwa_tesla_data/position_values_20230123_090327')\n",
    "jp_manip1_short = pd.read_csv('/home/alexander/iiwa_stack_ws/src/iiwa_stack/iiwa_tesla/iiwa_tesla_data/position_values_20230123_080501')\n",
    "jp_manip1_long = pd.read_csv('/home/alexander/iiwa_stack_ws/src/iiwa_stack/iiwa_tesla/iiwa_tesla_data/position_values_20230123_105247')\n",
    "jv_manip1_long = pd.read_csv('/home/alexander/iiwa_stack_ws/src/iiwa_stack/iiwa_tesla/iiwa_tesla_data/velocity_values_20230123_105247')\n",
    "jp_manip1_long_5 = pd.read_csv('/home/alexander/iiwa_stack_ws/src/iiwa_stack/iiwa_tesla/iiwa_tesla_data/position_values_20230125_075156')\n",
    "jv_manip1_long_5 = pd.read_csv('/home/alexander/iiwa_stack_ws/src/iiwa_stack/iiwa_tesla/iiwa_tesla_data/velocity_values_20230125_075156')\n",
    "jp_manip1_long_10 = pd.read_csv('/home/alexander/iiwa_stack_ws/src/iiwa_stack/iiwa_tesla/iiwa_tesla_data/position_values_20230124_103805')\n",
    "jv_manip1_long_10 = pd.read_csv('/home/alexander/iiwa_stack_ws/src/iiwa_stack/iiwa_tesla/iiwa_tesla_data/velocity_values_20230124_103805')\n",
    "jp_manip2_short = pd.read_csv('/home/alexander/iiwa_stack_ws/src/iiwa_stack/iiwa_tesla/iiwa_tesla_data/position_values_20230120_160632')\n",
    "jp_manip2_long = pd.read_csv('/home/alexander/iiwa_stack_ws/src/iiwa_stack/iiwa_tesla/iiwa_tesla_data/position_values_20230123_152415')\n",
    "jv_manip2_long = pd.read_csv('/home/alexander/iiwa_stack_ws/src/iiwa_stack/iiwa_tesla/iiwa_tesla_data/velocity_values_20230123_152415')\n",
    "\n",
    "joint_positions = [jp_speed_short, jp_distance_short, jp_manip1_short, jp_manip1_long, jp_manip1_long_5, jp_manip1_long_10, jp_manip2_short, jp_manip2_long]\n",
    "joint_positions_names = ['jp_speed_short','jp_distance_short','jp_manip1_short','jp_manip1_long','jp_manip1_long_5','jp_manip1_long_10','jp_manip2_short','jp_manip2_long']\n",
    "joint_velocities = [jv_manip1_long, jv_manip1_long_5, jv_manip1_long_10, jv_manip2_long]\n",
    "joint_velocities_names = ['jv_manip1_long','jv_manip1_long_5','jv_manip1_long_10','jv_manip2_long']"
   ]
  },
  {
   "attachments": {},
   "cell_type": "markdown",
   "metadata": {},
   "source": [
    "special static route"
   ]
  },
  {
   "cell_type": "code",
   "execution_count": 11,
   "metadata": {},
   "outputs": [],
   "source": [
    "static_joint_positions = pd.read_csv('/home/alexander/iiwa_stack_ws/src/iiwa_stack/iiwa_tesla/iiwa_tesla_data/position_values_20230203_160634')"
   ]
  },
  {
   "cell_type": "code",
   "execution_count": 48,
   "metadata": {},
   "outputs": [
    {
     "data": {
      "text/html": [
       "<div>\n",
       "<style scoped>\n",
       "    .dataframe tbody tr th:only-of-type {\n",
       "        vertical-align: middle;\n",
       "    }\n",
       "\n",
       "    .dataframe tbody tr th {\n",
       "        vertical-align: top;\n",
       "    }\n",
       "\n",
       "    .dataframe thead th {\n",
       "        text-align: right;\n",
       "    }\n",
       "</style>\n",
       "<table border=\"1\" class=\"dataframe\">\n",
       "  <thead>\n",
       "    <tr style=\"text-align: right;\">\n",
       "      <th></th>\n",
       "      <th>seq</th>\n",
       "      <th>timestamp</th>\n",
       "      <th>loop_count</th>\n",
       "      <th>a1</th>\n",
       "      <th>a2</th>\n",
       "      <th>a3</th>\n",
       "      <th>a4</th>\n",
       "      <th>a5</th>\n",
       "      <th>a6</th>\n",
       "      <th>a7</th>\n",
       "    </tr>\n",
       "  </thead>\n",
       "  <tbody>\n",
       "    <tr>\n",
       "      <th>349</th>\n",
       "      <td>349</td>\n",
       "      <td>20230203160637248621</td>\n",
       "      <td>2</td>\n",
       "      <td>1.575901</td>\n",
       "      <td>0.985521</td>\n",
       "      <td>1.838896</td>\n",
       "      <td>1.320408</td>\n",
       "      <td>-1.909975</td>\n",
       "      <td>0.172631</td>\n",
       "      <td>-0.181060</td>\n",
       "    </tr>\n",
       "    <tr>\n",
       "      <th>350</th>\n",
       "      <td>350</td>\n",
       "      <td>20230203160637252374</td>\n",
       "      <td>2</td>\n",
       "      <td>1.575305</td>\n",
       "      <td>0.984996</td>\n",
       "      <td>1.839683</td>\n",
       "      <td>1.319756</td>\n",
       "      <td>-1.909474</td>\n",
       "      <td>0.172484</td>\n",
       "      <td>-0.181888</td>\n",
       "    </tr>\n",
       "    <tr>\n",
       "      <th>351</th>\n",
       "      <td>351</td>\n",
       "      <td>20230203160637256115</td>\n",
       "      <td>2</td>\n",
       "      <td>1.574944</td>\n",
       "      <td>0.984682</td>\n",
       "      <td>1.840159</td>\n",
       "      <td>1.319370</td>\n",
       "      <td>-1.909171</td>\n",
       "      <td>0.172394</td>\n",
       "      <td>-0.182405</td>\n",
       "    </tr>\n",
       "    <tr>\n",
       "      <th>352</th>\n",
       "      <td>352</td>\n",
       "      <td>20230203160637259603</td>\n",
       "      <td>2</td>\n",
       "      <td>1.574462</td>\n",
       "      <td>0.984261</td>\n",
       "      <td>1.840788</td>\n",
       "      <td>1.318856</td>\n",
       "      <td>-1.908773</td>\n",
       "      <td>0.172280</td>\n",
       "      <td>-0.183081</td>\n",
       "    </tr>\n",
       "    <tr>\n",
       "      <th>353</th>\n",
       "      <td>353</td>\n",
       "      <td>20230203160637263806</td>\n",
       "      <td>2</td>\n",
       "      <td>1.573979</td>\n",
       "      <td>0.983840</td>\n",
       "      <td>1.841419</td>\n",
       "      <td>1.318342</td>\n",
       "      <td>-1.908382</td>\n",
       "      <td>0.172152</td>\n",
       "      <td>-0.183734</td>\n",
       "    </tr>\n",
       "    <tr>\n",
       "      <th>...</th>\n",
       "      <td>...</td>\n",
       "      <td>...</td>\n",
       "      <td>...</td>\n",
       "      <td>...</td>\n",
       "      <td>...</td>\n",
       "      <td>...</td>\n",
       "      <td>...</td>\n",
       "      <td>...</td>\n",
       "      <td>...</td>\n",
       "      <td>...</td>\n",
       "    </tr>\n",
       "    <tr>\n",
       "      <th>27647</th>\n",
       "      <td>27647</td>\n",
       "      <td>20230203161026904756</td>\n",
       "      <td>6</td>\n",
       "      <td>1.579645</td>\n",
       "      <td>0.987203</td>\n",
       "      <td>1.835736</td>\n",
       "      <td>1.324003</td>\n",
       "      <td>-1.916436</td>\n",
       "      <td>0.170697</td>\n",
       "      <td>-0.174011</td>\n",
       "    </tr>\n",
       "    <tr>\n",
       "      <th>27648</th>\n",
       "      <td>27648</td>\n",
       "      <td>20230203161026910088</td>\n",
       "      <td>6</td>\n",
       "      <td>1.579165</td>\n",
       "      <td>0.986791</td>\n",
       "      <td>1.836358</td>\n",
       "      <td>1.323462</td>\n",
       "      <td>-1.916001</td>\n",
       "      <td>0.170625</td>\n",
       "      <td>-0.174716</td>\n",
       "    </tr>\n",
       "    <tr>\n",
       "      <th>27649</th>\n",
       "      <td>27649</td>\n",
       "      <td>20230203161026913638</td>\n",
       "      <td>6</td>\n",
       "      <td>1.578687</td>\n",
       "      <td>0.986374</td>\n",
       "      <td>1.836974</td>\n",
       "      <td>1.322915</td>\n",
       "      <td>-1.915574</td>\n",
       "      <td>0.170548</td>\n",
       "      <td>-0.175402</td>\n",
       "    </tr>\n",
       "    <tr>\n",
       "      <th>27650</th>\n",
       "      <td>27650</td>\n",
       "      <td>20230203161026918390</td>\n",
       "      <td>6</td>\n",
       "      <td>1.578206</td>\n",
       "      <td>0.985956</td>\n",
       "      <td>1.837590</td>\n",
       "      <td>1.322364</td>\n",
       "      <td>-1.915153</td>\n",
       "      <td>0.170459</td>\n",
       "      <td>-0.176093</td>\n",
       "    </tr>\n",
       "    <tr>\n",
       "      <th>27651</th>\n",
       "      <td>27651</td>\n",
       "      <td>20230203161026923402</td>\n",
       "      <td>6</td>\n",
       "      <td>1.577606</td>\n",
       "      <td>0.985438</td>\n",
       "      <td>1.838366</td>\n",
       "      <td>1.321679</td>\n",
       "      <td>-1.914627</td>\n",
       "      <td>0.170349</td>\n",
       "      <td>-0.176969</td>\n",
       "    </tr>\n",
       "  </tbody>\n",
       "</table>\n",
       "<p>27303 rows × 10 columns</p>\n",
       "</div>"
      ],
      "text/plain": [
       "         seq             timestamp  loop_count        a1        a2        a3  \\\n",
       "349      349  20230203160637248621           2  1.575901  0.985521  1.838896   \n",
       "350      350  20230203160637252374           2  1.575305  0.984996  1.839683   \n",
       "351      351  20230203160637256115           2  1.574944  0.984682  1.840159   \n",
       "352      352  20230203160637259603           2  1.574462  0.984261  1.840788   \n",
       "353      353  20230203160637263806           2  1.573979  0.983840  1.841419   \n",
       "...      ...                   ...         ...       ...       ...       ...   \n",
       "27647  27647  20230203161026904756           6  1.579645  0.987203  1.835736   \n",
       "27648  27648  20230203161026910088           6  1.579165  0.986791  1.836358   \n",
       "27649  27649  20230203161026913638           6  1.578687  0.986374  1.836974   \n",
       "27650  27650  20230203161026918390           6  1.578206  0.985956  1.837590   \n",
       "27651  27651  20230203161026923402           6  1.577606  0.985438  1.838366   \n",
       "\n",
       "             a4        a5        a6        a7  \n",
       "349    1.320408 -1.909975  0.172631 -0.181060  \n",
       "350    1.319756 -1.909474  0.172484 -0.181888  \n",
       "351    1.319370 -1.909171  0.172394 -0.182405  \n",
       "352    1.318856 -1.908773  0.172280 -0.183081  \n",
       "353    1.318342 -1.908382  0.172152 -0.183734  \n",
       "...         ...       ...       ...       ...  \n",
       "27647  1.324003 -1.916436  0.170697 -0.174011  \n",
       "27648  1.323462 -1.916001  0.170625 -0.174716  \n",
       "27649  1.322915 -1.915574  0.170548 -0.175402  \n",
       "27650  1.322364 -1.915153  0.170459 -0.176093  \n",
       "27651  1.321679 -1.914627  0.170349 -0.176969  \n",
       "\n",
       "[27303 rows x 10 columns]"
      ]
     },
     "execution_count": 48,
     "metadata": {},
     "output_type": "execute_result"
    }
   ],
   "source": [
    "static_joint_positions"
   ]
  },
  {
   "cell_type": "code",
   "execution_count": 13,
   "metadata": {},
   "outputs": [],
   "source": [
    "rmv_first_last_cycle(static_joint_positions)"
   ]
  },
  {
   "attachments": {},
   "cell_type": "markdown",
   "metadata": {},
   "source": [
    "export joint positions of best cycle"
   ]
  },
  {
   "cell_type": "code",
   "execution_count": 14,
   "metadata": {},
   "outputs": [],
   "source": [
    "l_of_static_jps_2 = []\n",
    "for row in range(static_joint_positions.loc[(static_joint_positions['loop_count']==2, static_joint_positions.columns[3:])].shape[0]):\n",
    "    l_of_static_jps_2.append(static_joint_positions.loc[(static_joint_positions['loop_count']==2, static_joint_positions.columns[3:])].iloc[row].to_list())"
   ]
  },
  {
   "cell_type": "code",
   "execution_count": 15,
   "metadata": {},
   "outputs": [],
   "source": [
    "l_of_static_jps_3 = []\n",
    "for row in range(static_joint_positions.loc[(static_joint_positions['loop_count']==3, static_joint_positions.columns[3:])].shape[0]):\n",
    "    l_of_static_jps_3.append(static_joint_positions.loc[(static_joint_positions['loop_count']==3, static_joint_positions.columns[3:])].iloc[row].to_list())"
   ]
  },
  {
   "cell_type": "code",
   "execution_count": 16,
   "metadata": {},
   "outputs": [],
   "source": [
    "l_of_static_jps_4 = []\n",
    "for row in range(static_joint_positions.loc[(static_joint_positions['loop_count']==4, static_joint_positions.columns[3:])].shape[0]):\n",
    "    l_of_static_jps_4.append(static_joint_positions.loc[(static_joint_positions['loop_count']==4, static_joint_positions.columns[3:])].iloc[row].to_list())"
   ]
  },
  {
   "cell_type": "code",
   "execution_count": 17,
   "metadata": {},
   "outputs": [],
   "source": [
    "l_of_static_jps_5 = []\n",
    "for row in range(static_joint_positions.loc[(static_joint_positions['loop_count']==5, static_joint_positions.columns[3:])].shape[0]):\n",
    "    l_of_static_jps_5.append(static_joint_positions.loc[(static_joint_positions['loop_count']==5, static_joint_positions.columns[3:])].iloc[row].to_list())"
   ]
  },
  {
   "cell_type": "code",
   "execution_count": 18,
   "metadata": {},
   "outputs": [],
   "source": [
    "l_of_static_jps_6 = []\n",
    "for row in range(static_joint_positions.loc[(static_joint_positions['loop_count']==6, static_joint_positions.columns[3:])].shape[0]):\n",
    "    l_of_static_jps_6.append(static_joint_positions.loc[(static_joint_positions['loop_count']==6, static_joint_positions.columns[3:])].iloc[row].to_list())"
   ]
  },
  {
   "cell_type": "code",
   "execution_count": 19,
   "metadata": {},
   "outputs": [],
   "source": [
    "l_of_static_jps_6 = []\n",
    "for row in range(static_joint_positions.loc[(static_joint_positions['loop_count']==6, static_joint_positions.columns[3:])].shape[0]):\n",
    "    l_of_static_jps_6.append(static_joint_positions.loc[(static_joint_positions['loop_count']==6, static_joint_positions.columns[3:])].iloc[row].to_list())"
   ]
  },
  {
   "cell_type": "code",
   "execution_count": 20,
   "metadata": {},
   "outputs": [],
   "source": [
    "l_of_static_jps_11 = []\n",
    "for row in range(static_joint_positions.loc[(static_joint_positions['loop_count']==6, static_joint_positions.columns[3:])].shape[0]):\n",
    "    l_of_static_jps_11.append(static_joint_positions.loc[(static_joint_positions['loop_count']==6, static_joint_positions.columns[3:])].iloc[row].to_list())"
   ]
  },
  {
   "cell_type": "code",
   "execution_count": 21,
   "metadata": {},
   "outputs": [],
   "source": [
    "with open('/home/alexander/iiwa_stack_ws/src/iiwa_stack/iiwa_tesla/iiwa_tesla_publish/src/static_jp_2.json', 'w') as file:\n",
    "    json.dump(l_of_static_jps_2, file, indent=4)\n",
    "    file.close()"
   ]
  },
  {
   "cell_type": "code",
   "execution_count": 22,
   "metadata": {},
   "outputs": [],
   "source": [
    "with open('/home/alexander/iiwa_stack_ws/src/iiwa_stack/iiwa_tesla/iiwa_tesla_publish/src/static_jp_3.json', 'w') as file:\n",
    "    json.dump(l_of_static_jps_3, file, indent=4)\n",
    "    file.close()"
   ]
  },
  {
   "cell_type": "code",
   "execution_count": 23,
   "metadata": {},
   "outputs": [],
   "source": [
    "with open('/home/alexander/iiwa_stack_ws/src/iiwa_stack/iiwa_tesla/iiwa_tesla_publish/src/static_jp_4.json', 'w') as file:\n",
    "    json.dump(l_of_static_jps_4, file, indent=4)\n",
    "    file.close()"
   ]
  },
  {
   "cell_type": "code",
   "execution_count": 24,
   "metadata": {},
   "outputs": [],
   "source": [
    "with open('/home/alexander/iiwa_stack_ws/src/iiwa_stack/iiwa_tesla/iiwa_tesla_publish/src/static_jp_5.json', 'w') as file:\n",
    "    json.dump(l_of_static_jps_5, file, indent=4)\n",
    "    file.close()"
   ]
  },
  {
   "cell_type": "code",
   "execution_count": 25,
   "metadata": {},
   "outputs": [],
   "source": [
    "with open('/home/alexander/iiwa_stack_ws/src/iiwa_stack/iiwa_tesla/iiwa_tesla_publish/src/static_jp_6.json', 'w') as file:\n",
    "    json.dump(l_of_static_jps_6, file, indent=4)\n",
    "    file.close()"
   ]
  },
  {
   "cell_type": "code",
   "execution_count": 26,
   "metadata": {},
   "outputs": [],
   "source": [
    "with open('/home/alexander/iiwa_stack_ws/src/iiwa_stack/iiwa_tesla/iiwa_tesla_publish/src/static_jp_6.json', 'w') as file:\n",
    "    json.dump(l_of_static_jps_6, file, indent=4)\n",
    "    file.close()\n"
   ]
  },
  {
   "attachments": {},
   "cell_type": "markdown",
   "metadata": {},
   "source": [
    "cycle 11 was from the file before the final one"
   ]
  },
  {
   "cell_type": "code",
   "execution_count": 27,
   "metadata": {},
   "outputs": [],
   "source": [
    "\n",
    "with open('/home/alexander/iiwa_stack_ws/src/iiwa_stack/iiwa_tesla/iiwa_tesla_publish/src/static_jp_11.json', 'w') as file:\n",
    "    json.dump(l_of_static_jps_11, file, indent=4)\n",
    "    file.close()"
   ]
  },
  {
   "cell_type": "code",
   "execution_count": 28,
   "metadata": {},
   "outputs": [
    {
     "data": {
      "text/html": [
       "<div>\n",
       "<style scoped>\n",
       "    .dataframe tbody tr th:only-of-type {\n",
       "        vertical-align: middle;\n",
       "    }\n",
       "\n",
       "    .dataframe tbody tr th {\n",
       "        vertical-align: top;\n",
       "    }\n",
       "\n",
       "    .dataframe thead th {\n",
       "        text-align: right;\n",
       "    }\n",
       "</style>\n",
       "<table border=\"1\" class=\"dataframe\">\n",
       "  <thead>\n",
       "    <tr style=\"text-align: right;\">\n",
       "      <th></th>\n",
       "      <th>a1</th>\n",
       "      <th>a2</th>\n",
       "      <th>a3</th>\n",
       "      <th>a4</th>\n",
       "      <th>a5</th>\n",
       "      <th>a6</th>\n",
       "      <th>a7</th>\n",
       "    </tr>\n",
       "  </thead>\n",
       "  <tbody>\n",
       "  </tbody>\n",
       "</table>\n",
       "</div>"
      ],
      "text/plain": [
       "Empty DataFrame\n",
       "Columns: [a1, a2, a3, a4, a5, a6, a7]\n",
       "Index: []"
      ]
     },
     "execution_count": 28,
     "metadata": {},
     "output_type": "execute_result"
    }
   ],
   "source": [
    "static_joint_positions.loc[(static_joint_positions['loop_count']==11, static_joint_positions.columns[3:])]"
   ]
  },
  {
   "attachments": {},
   "cell_type": "markdown",
   "metadata": {},
   "source": [
    "Clean Data:\n",
    "* remove possibly incomplete first and last cycle\n",
    "* remove those cycles that have an unnecessary high cycle time"
   ]
  },
  {
   "cell_type": "code",
   "execution_count": 29,
   "metadata": {},
   "outputs": [],
   "source": [
    "for item in joint_positions:\n",
    "    rmv_first_last_cycle(item)"
   ]
  },
  {
   "cell_type": "code",
   "execution_count": 30,
   "metadata": {},
   "outputs": [],
   "source": [
    "for item in joint_positions:\n",
    "    filter_high_cycle_times(item)"
   ]
  },
  {
   "attachments": {},
   "cell_type": "markdown",
   "metadata": {},
   "source": [
    "# plotting"
   ]
  },
  {
   "cell_type": "code",
   "execution_count": 31,
   "metadata": {},
   "outputs": [
    {
     "data": {
      "image/png": "[encoded data removed]",
      "text/plain": [
       "<Figure size 640x480 with 16 Axes>"
      ]
     },
     "metadata": {},
     "output_type": "display_data"
    }
   ],
   "source": [
    "plot_all()"
   ]
  },
  {
   "attachments": {},
   "cell_type": "markdown",
   "metadata": {},
   "source": [
    "# Evaluation of Cycle Time"
   ]
  },
  {
   "cell_type": "code",
   "execution_count": 32,
   "metadata": {},
   "outputs": [],
   "source": [
    "min_ct = [np.array(get_cycle_time(ct)).min() for ct in joint_positions]\n",
    "max_ct = [np.array(get_cycle_time(ct)).max() for ct in joint_positions]\n",
    "mean_ct = [np.array(get_cycle_time(ct)).mean() for ct in joint_positions]\n",
    "yerr = [np.array(get_cycle_time(ct)).std() for ct in joint_positions]"
   ]
  },
  {
   "cell_type": "code",
   "execution_count": 33,
   "metadata": {},
   "outputs": [
    {
     "data": {
      "text/plain": [
       "[12.002996,\n",
       " 12.188178,\n",
       " 14.175093,\n",
       " 14.818673,\n",
       " 20.875483,\n",
       " 13.904265,\n",
       " 13.714886,\n",
       " 14.615573]"
      ]
     },
     "execution_count": 33,
     "metadata": {},
     "output_type": "execute_result"
    }
   ],
   "source": [
    "min_ct"
   ]
  },
  {
   "cell_type": "code",
   "execution_count": 34,
   "metadata": {},
   "outputs": [
    {
     "data": {
      "text/plain": [
       "[76.316164,\n",
       " 76.425282,\n",
       " 69.517765,\n",
       " 73.176563,\n",
       " 87.719016,\n",
       " 74.615082,\n",
       " 66.139545,\n",
       " 65.897383]"
      ]
     },
     "execution_count": 34,
     "metadata": {},
     "output_type": "execute_result"
    }
   ],
   "source": [
    "max_ct"
   ]
  },
  {
   "cell_type": "code",
   "execution_count": 35,
   "metadata": {},
   "outputs": [
    {
     "data": {
      "text/plain": [
       "[28.03549021212121,\n",
       " 24.6936982,\n",
       " 34.27381336419753,\n",
       " 34.459879993421055,\n",
       " 42.17005312898751,\n",
       " 28.438328296937414,\n",
       " 31.514470371900828,\n",
       " 31.732029282282284]"
      ]
     },
     "execution_count": 35,
     "metadata": {},
     "output_type": "execute_result"
    }
   ],
   "source": [
    "mean_ct"
   ]
  },
  {
   "cell_type": "code",
   "execution_count": 36,
   "metadata": {},
   "outputs": [
    {
     "data": {
      "text/plain": [
       "[19.623572452062362,\n",
       " 17.83254286708951,\n",
       " 19.54848707315736,\n",
       " 19.33481346364649,\n",
       " 20.639292529753018,\n",
       " 18.441700438171196,\n",
       " 18.955372396456198,\n",
       " 18.968395420244985]"
      ]
     },
     "execution_count": 36,
     "metadata": {},
     "output_type": "execute_result"
    }
   ],
   "source": [
    "yerr"
   ]
  },
  {
   "cell_type": "code",
   "execution_count": 37,
   "metadata": {},
   "outputs": [
    {
     "name": "stderr",
     "output_type": "stream",
     "text": [
      "/tmp/ipykernel_77483/2159172824.py:4: UserWarning: FixedFormatter should only be used together with FixedLocator\n",
      "  ax.set_xticklabels(joint_positions_names, rotation=90)\n"
     ]
    },
    {
     "data": {
      "text/plain": [
       "[Text(0, 0, 'jp_speed_short'),\n",
       " Text(1, 0, 'jp_distance_short'),\n",
       " Text(2, 0, 'jp_manip1_short'),\n",
       " Text(3, 0, 'jp_manip1_long'),\n",
       " Text(4, 0, 'jp_manip1_long_5'),\n",
       " Text(5, 0, 'jp_manip1_long_10'),\n",
       " Text(6, 0, 'jp_manip2_short'),\n",
       " Text(7, 0, 'jp_manip2_long')]"
      ]
     },
     "execution_count": 37,
     "metadata": {},
     "output_type": "execute_result"
    },
    {
     "data": {
      "image/png": "[encoded data removed]",
      "text/plain": [
       "<Figure size 640x480 with 1 Axes>"
      ]
     },
     "metadata": {},
     "output_type": "display_data"
    }
   ],
   "source": [
    "fig, ax = plt.subplots()\n",
    "\n",
    "ax.bar(joint_positions_names, mean_ct, yerr=yerr)\n",
    "ax.set_xticklabels(joint_positions_names, rotation=90)\n"
   ]
  },
  {
   "attachments": {},
   "cell_type": "markdown",
   "metadata": {},
   "source": [
    "# Evaluation Joint Movement"
   ]
  },
  {
   "cell_type": "code",
   "execution_count": 38,
   "metadata": {},
   "outputs": [],
   "source": [
    "l_of_min_jp = [min_joint_movement(item) for item in joint_positions]"
   ]
  },
  {
   "cell_type": "code",
   "execution_count": 39,
   "metadata": {},
   "outputs": [],
   "source": [
    "l_of_min_jps = []\n",
    "for solver in l_of_min_jp:\n",
    "    l_of_min_jps.append(np.array([item[0] for item in solver]))"
   ]
  },
  {
   "cell_type": "code",
   "execution_count": 40,
   "metadata": {},
   "outputs": [],
   "source": [
    "l_of_min_ct_from_min_jp = []\n",
    "for solver, cycle in zip(joint_positions, [[item[1] for item in l_of_min_jp[item2] if item[0]==[item.min() for item in l_of_min_jps][item2]] for item2 in range(8)]):\n",
    "    l_of_min_ct_from_min_jp.append(get_cycle_time(solver, cycle[0]))"
   ]
  },
  {
   "cell_type": "code",
   "execution_count": 41,
   "metadata": {},
   "outputs": [
    {
     "data": {
      "text/plain": [
       "[2473.9299842275373,\n",
       " 2369.766609059952,\n",
       " 2769.9176242645954,\n",
       " 2836.3424816007123,\n",
       " 3556.9188033974647,\n",
       " 2210.28434505915,\n",
       " 2652.9427945957664,\n",
       " 2680.6375560595166]"
      ]
     },
     "execution_count": 41,
     "metadata": {},
     "output_type": "execute_result"
    }
   ],
   "source": [
    "[item.min() for item in l_of_min_jps]"
   ]
  },
  {
   "cell_type": "code",
   "execution_count": 42,
   "metadata": {},
   "outputs": [
    {
     "data": {
      "text/plain": [
       "[12.265143,\n",
       " 12.385052,\n",
       " 16.080581,\n",
       " 55.196331,\n",
       " 20.875483,\n",
       " 14.533848,\n",
       " 15.772477,\n",
       " 14.615573]"
      ]
     },
     "execution_count": 42,
     "metadata": {},
     "output_type": "execute_result"
    }
   ],
   "source": [
    "l_of_min_ct_from_min_jp"
   ]
  },
  {
   "cell_type": "code",
   "execution_count": 43,
   "metadata": {},
   "outputs": [],
   "source": [
    "l_of_max_ct_from_min_jp = []\n",
    "for solver, cycle in zip(joint_positions, [[item[1] for item in l_of_min_jp[item2] if item[0]==[item.max() for item in l_of_min_jps][item2]] for item2 in range(8)]):\n",
    "    l_of_max_ct_from_min_jp.append(get_cycle_time(solver, cycle[0]))"
   ]
  },
  {
   "cell_type": "code",
   "execution_count": 44,
   "metadata": {},
   "outputs": [
    {
     "data": {
      "text/plain": [
       "[13203.168450790274,\n",
       " 13473.067210991669,\n",
       " 6874.423430299471,\n",
       " 6854.601681809622,\n",
       " 11275.537135714081,\n",
       " 9694.668304382138,\n",
       " 5671.217828905054,\n",
       " 6459.192084068373]"
      ]
     },
     "execution_count": 44,
     "metadata": {},
     "output_type": "execute_result"
    }
   ],
   "source": [
    "[item.max() for item in l_of_min_jps]"
   ]
  },
  {
   "cell_type": "code",
   "execution_count": 45,
   "metadata": {},
   "outputs": [
    {
     "data": {
      "text/plain": [
       "[76.316164,\n",
       " 76.425282,\n",
       " 31.659476,\n",
       " 67.266734,\n",
       " 87.719016,\n",
       " 74.615082,\n",
       " 27.277534,\n",
       " 32.575885]"
      ]
     },
     "execution_count": 45,
     "metadata": {},
     "output_type": "execute_result"
    }
   ],
   "source": [
    "l_of_max_ct_from_min_jp"
   ]
  },
  {
   "cell_type": "code",
   "execution_count": 52,
   "metadata": {},
   "outputs": [],
   "source": [
    "jp_min_mean = [item.mean() for item in l_of_min_jps]"
   ]
  },
  {
   "cell_type": "code",
   "execution_count": 53,
   "metadata": {},
   "outputs": [],
   "source": [
    "jp_min_yerr = [item.std() for item in l_of_min_jps]"
   ]
  },
  {
   "cell_type": "code",
   "execution_count": 54,
   "metadata": {},
   "outputs": [
    {
     "name": "stderr",
     "output_type": "stream",
     "text": [
      "/tmp/ipykernel_77483/3982460566.py:3: UserWarning: FixedFormatter should only be used together with FixedLocator\n",
      "  ax.set_xticklabels(joint_positions_names, rotation=90)\n"
     ]
    },
    {
     "data": {
      "text/plain": [
       "[Text(0, 0, 'jp_speed_short'),\n",
       " Text(1, 0, 'jp_distance_short'),\n",
       " Text(2, 0, 'jp_manip1_short'),\n",
       " Text(3, 0, 'jp_manip1_long'),\n",
       " Text(4, 0, 'jp_manip1_long_5'),\n",
       " Text(5, 0, 'jp_manip1_long_10'),\n",
       " Text(6, 0, 'jp_manip2_short'),\n",
       " Text(7, 0, 'jp_manip2_long')]"
      ]
     },
     "execution_count": 54,
     "metadata": {},
     "output_type": "execute_result"
    },
    {
     "data": {
      "image/png": "[encoded data removed]",
      "text/plain": [
       "<Figure size 640x480 with 1 Axes>"
      ]
     },
     "metadata": {},
     "output_type": "display_data"
    }
   ],
   "source": [
    "fig, axs = plt.subplots()\n",
    "axs.bar(joint_positions_names, jp_min_mean, yerr= jp_min_yerr)\n",
    "ax.set_xticklabels(joint_positions_names, rotation=90)"
   ]
  },
  {
   "cell_type": "code",
   "execution_count": 58,
   "metadata": {},
   "outputs": [],
   "source": [
    "best_metric = np.array(mean_ct)*np.array(jp_min_mean)"
   ]
  },
  {
   "cell_type": "code",
   "execution_count": 60,
   "metadata": {},
   "outputs": [
    {
     "data": {
      "text/plain": [
       "array([148135.75038925, 104050.30770653, 146205.67026775, 149511.79222204,\n",
       "       208593.63994193,  90140.17690848, 115312.22073383, 122122.43914175])"
      ]
     },
     "execution_count": 60,
     "metadata": {},
     "output_type": "execute_result"
    }
   ],
   "source": [
    "best_metric"
   ]
  },
  {
   "cell_type": "code",
   "execution_count": 59,
   "metadata": {},
   "outputs": [
    {
     "data": {
      "text/plain": [
       "<BarContainer object of 8 artists>"
      ]
     },
     "execution_count": 59,
     "metadata": {},
     "output_type": "execute_result"
    },
    {
     "data": {
      "image/png": "[encoded data removed]",
      "text/plain": [
       "<Figure size 640x480 with 1 Axes>"
      ]
     },
     "metadata": {},
     "output_type": "display_data"
    }
   ],
   "source": [
    "fig, axs = plt.subplots()\n",
    "axs.bar(joint_positions_names, best_metric)"
   ]
  }
 ],
 "metadata": {
  "kernelspec": {
   "display_name": "ros_env",
   "language": "python",
   "name": "python3"
  },
  "language_info": {
   "codemirror_mode": {
    "name": "ipython",
    "version": 3
   },
   "file_extension": ".py",
   "mimetype": "text/x-python",
   "name": "python",
   "nbconvert_exporter": "python",
   "pygments_lexer": "ipython3",
   "version": "3.8.13 | packaged by conda-forge | (default, Mar 25 2022, 05:56:18) \n[GCC 10.3.0]"
  },
  "orig_nbformat": 4,
  "vscode": {
   "interpreter": {
    "hash": "51e6489a18b6ca906a043447433ec8d5bf9a95ccc331d4055b0a16dc19d66a4a"
   }
  }
 },
 "nbformat": 4,
 "nbformat_minor": 2
}
